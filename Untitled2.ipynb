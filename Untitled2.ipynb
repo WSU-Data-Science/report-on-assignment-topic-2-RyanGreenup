{
 "cells": [
  {
   "cell_type": "code",
   "execution_count": null,
   "id": "d909f8e5-d1ce-4dbd-ad53-244d1e877e3f",
   "metadata": {},
   "outputs": [],
   "source": []
  }
 ],
 "metadata": {
  "kernelspec": {
   "display_name": "Julia 1.5.3",
   "language": "julia",
   "name": "julia-1.5"
  },
  "language_info": {
   "file_extension": ".jl",
   "mimetype": "application/julia",
   "name": "julia",
   "version": "1.6.1"
  }
 },
 "nbformat": 4,
 "nbformat_minor": 5
}
