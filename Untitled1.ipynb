{
 "cells": [
  {
   "cell_type": "markdown",
   "id": "90192944-024d-4180-8c54-d3721f80d2ad",
   "metadata": {},
   "source": [
    "# This is a heading"
   ]
  },
  {
   "cell_type": "markdown",
   "id": "ad3fe7fd-780d-4beb-90ef-fe3c3761390e",
   "metadata": {},
   "source": [
    "This is:\n",
    "    \n",
    "$$\n",
    "4x\n",
    "$$"
   ]
  },
  {
   "cell_type": "code",
   "execution_count": null,
   "id": "68af6ed1-3b92-495f-8d04-7b1fd6bf7cc4",
   "metadata": {},
   "outputs": [],
   "source": []
  }
 ],
 "metadata": {
  "kernelspec": {
   "display_name": "Python 3",
   "language": "python",
   "name": "python3"
  },
  "language_info": {
   "codemirror_mode": {
    "name": "ipython",
    "version": 3
   },
   "file_extension": ".py",
   "mimetype": "text/x-python",
   "name": "python",
   "nbconvert_exporter": "python",
   "pygments_lexer": "ipython3",
   "version": "3.9.5"
  }
 },
 "nbformat": 4,
 "nbformat_minor": 5
}
